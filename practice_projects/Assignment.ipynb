{
  "nbformat": 4,
  "nbformat_minor": 0,
  "metadata": {
    "colab": {
      "name": "Assignment.ipynb",
      "provenance": []
    },
    "kernelspec": {
      "name": "python3",
      "display_name": "Python 3"
    },
    "language_info": {
      "name": "python"
    }
  },
  "cells": [
    {
      "cell_type": "code",
      "execution_count": 1,
      "metadata": {
        "id": "4g8Ye8UvxG3X"
      },
      "outputs": [],
      "source": [
        "#all the python library imports\n",
        "import pandas as pd\n",
        "import seaborn as sns\n",
        "import matplotlib.pyplot as plt\n",
        "from sklearn import preprocessing\n",
        "import numpy as np\n",
        "from datetime import datetime, date\n",
        "from sklearn.linear_model import LogisticRegression\n",
        "from sklearn import metrics\n",
        "from sklearn.model_selection import train_test_split\n",
        "from sklearn.neighbors import KNeighborsClassifier\n",
        "from sklearn.naive_bayes import BernoulliNB\n",
        "from sklearn.ensemble import RandomForestClassifier\n",
        "from sklearn.utils import resample"
      ]
    },
    {
      "cell_type": "code",
      "source": [
        "#reading the given json as a dataframe\n",
        "df = pd.read_json('deliveryDatasetChallenge.json')\n",
        "df = pd.DataFrame(df['anonID;birthdate;routeDate;region;gender;areaWealthLevel;areaPopulation;badWeather;weatherRestrictions;routeTotalDistance;numberOfShops;marketShare;avgAreaBenefits;timeFromAvg;advertising;employeeLYScore;employeeTenure;employeePrevComps;success'].str.split(';',19).tolist(),\n",
        "                                 columns = ['anonID','birthdate','routeDate','region','gender','areaWealthLevel','areaPopulation','badWeather','weatherRestrictions','routeTotalDistance','numberOfShops','marketShare','avgAreaBenefits','timeFromAvg','advertising','employeeLYScore','employeeTenure','employeePrevComps','success'])"
      ],
      "metadata": {
        "id": "-CfEI1k9ixAm"
      },
      "execution_count": 2,
      "outputs": []
    },
    {
      "cell_type": "code",
      "source": [
        "df.head(5)"
      ],
      "metadata": {
        "colab": {
          "base_uri": "https://localhost:8080/",
          "height": 226
        },
        "id": "AsGq3hohmmBR",
        "outputId": "e214e8d6-af18-44ae-c09f-e2538e893470"
      },
      "execution_count": 3,
      "outputs": [
        {
          "output_type": "execute_result",
          "data": {
            "text/html": [
              "<div>\n",
              "<style scoped>\n",
              "    .dataframe tbody tr th:only-of-type {\n",
              "        vertical-align: middle;\n",
              "    }\n",
              "\n",
              "    .dataframe tbody tr th {\n",
              "        vertical-align: top;\n",
              "    }\n",
              "\n",
              "    .dataframe thead th {\n",
              "        text-align: right;\n",
              "    }\n",
              "</style>\n",
              "<table border=\"1\" class=\"dataframe\">\n",
              "  <thead>\n",
              "    <tr style=\"text-align: right;\">\n",
              "      <th></th>\n",
              "      <th>anonID</th>\n",
              "      <th>birthdate</th>\n",
              "      <th>routeDate</th>\n",
              "      <th>region</th>\n",
              "      <th>gender</th>\n",
              "      <th>areaWealthLevel</th>\n",
              "      <th>areaPopulation</th>\n",
              "      <th>badWeather</th>\n",
              "      <th>weatherRestrictions</th>\n",
              "      <th>routeTotalDistance</th>\n",
              "      <th>numberOfShops</th>\n",
              "      <th>marketShare</th>\n",
              "      <th>avgAreaBenefits</th>\n",
              "      <th>timeFromAvg</th>\n",
              "      <th>advertising</th>\n",
              "      <th>employeeLYScore</th>\n",
              "      <th>employeeTenure</th>\n",
              "      <th>employeePrevComps</th>\n",
              "      <th>success</th>\n",
              "    </tr>\n",
              "  </thead>\n",
              "  <tbody>\n",
              "    <tr>\n",
              "      <th>0</th>\n",
              "      <td>XLKC1691</td>\n",
              "      <td>23/10/1969</td>\n",
              "      <td>19/05/2020</td>\n",
              "      <td>NA</td>\n",
              "      <td>M</td>\n",
              "      <td>Mid</td>\n",
              "      <td>30.66</td>\n",
              "      <td>No</td>\n",
              "      <td>No</td>\n",
              "      <td>28.3</td>\n",
              "      <td>26</td>\n",
              "      <td>49</td>\n",
              "      <td>18.9</td>\n",
              "      <td>0.35</td>\n",
              "      <td>3</td>\n",
              "      <td>4</td>\n",
              "      <td>1</td>\n",
              "      <td>1</td>\n",
              "      <td>NA</td>\n",
              "    </tr>\n",
              "    <tr>\n",
              "      <th>1</th>\n",
              "      <td>KANY6459</td>\n",
              "      <td>14/04/1976</td>\n",
              "      <td>19/05/2020</td>\n",
              "      <td>LATAM</td>\n",
              "      <td>M</td>\n",
              "      <td>Mid</td>\n",
              "      <td>52.5</td>\n",
              "      <td>No</td>\n",
              "      <td>No</td>\n",
              "      <td>21.3</td>\n",
              "      <td>28</td>\n",
              "      <td>96</td>\n",
              "      <td>14.28</td>\n",
              "      <td>0.47</td>\n",
              "      <td>3</td>\n",
              "      <td>4</td>\n",
              "      <td>3</td>\n",
              "      <td>2</td>\n",
              "      <td>NA</td>\n",
              "    </tr>\n",
              "    <tr>\n",
              "      <th>2</th>\n",
              "      <td>ULUZ5859</td>\n",
              "      <td>03/04/1985</td>\n",
              "      <td>NA</td>\n",
              "      <td>NA</td>\n",
              "      <td>M</td>\n",
              "      <td>High</td>\n",
              "      <td>25.08</td>\n",
              "      <td>Yes</td>\n",
              "      <td>No</td>\n",
              "      <td>25.9</td>\n",
              "      <td>25</td>\n",
              "      <td>76</td>\n",
              "      <td>14.01</td>\n",
              "      <td>NA</td>\n",
              "      <td>2</td>\n",
              "      <td>3</td>\n",
              "      <td>1</td>\n",
              "      <td>1</td>\n",
              "      <td>NA</td>\n",
              "    </tr>\n",
              "    <tr>\n",
              "      <th>3</th>\n",
              "      <td>LDCQ7279</td>\n",
              "      <td>24/03/1968</td>\n",
              "      <td>11/05/2020</td>\n",
              "      <td>NA</td>\n",
              "      <td>M</td>\n",
              "      <td>Mid</td>\n",
              "      <td>37.14</td>\n",
              "      <td>No</td>\n",
              "      <td>No</td>\n",
              "      <td>24.3</td>\n",
              "      <td>26</td>\n",
              "      <td>65</td>\n",
              "      <td>19.2</td>\n",
              "      <td>-0.37</td>\n",
              "      <td>2</td>\n",
              "      <td>4</td>\n",
              "      <td>3</td>\n",
              "      <td>2</td>\n",
              "      <td>NA</td>\n",
              "    </tr>\n",
              "    <tr>\n",
              "      <th>4</th>\n",
              "      <td>KIUB5860</td>\n",
              "      <td>22/04/1978</td>\n",
              "      <td>19/05/2020</td>\n",
              "      <td>AMESA</td>\n",
              "      <td>M</td>\n",
              "      <td>Low</td>\n",
              "      <td>11.71</td>\n",
              "      <td>No</td>\n",
              "      <td>No</td>\n",
              "      <td>22.7</td>\n",
              "      <td>22</td>\n",
              "      <td>72</td>\n",
              "      <td>12.37</td>\n",
              "      <td>0.44</td>\n",
              "      <td>2</td>\n",
              "      <td>3</td>\n",
              "      <td>3</td>\n",
              "      <td>2</td>\n",
              "      <td>NA</td>\n",
              "    </tr>\n",
              "  </tbody>\n",
              "</table>\n",
              "</div>"
            ],
            "text/plain": [
              "     anonID   birthdate   routeDate  ... employeeTenure employeePrevComps success\n",
              "0  XLKC1691  23/10/1969  19/05/2020  ...              1                 1      NA\n",
              "1  KANY6459  14/04/1976  19/05/2020  ...              3                 2      NA\n",
              "2  ULUZ5859  03/04/1985          NA  ...              1                 1      NA\n",
              "3  LDCQ7279  24/03/1968  11/05/2020  ...              3                 2      NA\n",
              "4  KIUB5860  22/04/1978  19/05/2020  ...              3                 2      NA\n",
              "\n",
              "[5 rows x 19 columns]"
            ]
          },
          "metadata": {},
          "execution_count": 3
        }
      ]
    },
    {
      "cell_type": "code",
      "source": [
        "df.info"
      ],
      "metadata": {
        "colab": {
          "base_uri": "https://localhost:8080/"
        },
        "id": "qBOGgvivyQeS",
        "outputId": "921117f8-a648-4a5f-f67c-e449aebf8bec"
      },
      "execution_count": 4,
      "outputs": [
        {
          "output_type": "execute_result",
          "data": {
            "text/plain": [
              "<bound method DataFrame.info of          anonID   birthdate  ... employeePrevComps success\n",
              "0      XLKC1691  23/10/1969  ...                 1      NA\n",
              "1      KANY6459  14/04/1976  ...                 2      NA\n",
              "2      ULUZ5859  03/04/1985  ...                 1      NA\n",
              "3      LDCQ7279  24/03/1968  ...                 2      NA\n",
              "4      KIUB5860  22/04/1978  ...                 2      NA\n",
              "...         ...         ...  ...               ...     ...\n",
              "29384  MTVA4012  21/06/1976  ...                 3       0\n",
              "29385  HLWO9554  14/12/1985  ...                 1       1\n",
              "29386  LRYK5563  17/02/1972  ...                 3       1\n",
              "29387  ALFW5863  14/09/1969  ...                 2       0\n",
              "29388  UTYD2330  23/02/1974  ...                 1       1\n",
              "\n",
              "[29389 rows x 19 columns]>"
            ]
          },
          "metadata": {},
          "execution_count": 4
        }
      ]
    },
    {
      "cell_type": "code",
      "source": [
        "#replacing all 'NA' strigs with numpy NaN for easier feature engineering\n",
        "list_col = df.columns\n",
        "for col in list_col:\n",
        "  df[col] = df[col].replace('NA',np.nan)\n"
      ],
      "metadata": {
        "id": "y6UIEjp6cyNm"
      },
      "execution_count": 5,
      "outputs": []
    },
    {
      "cell_type": "code",
      "source": [
        "df.head(5)"
      ],
      "metadata": {
        "colab": {
          "base_uri": "https://localhost:8080/",
          "height": 226
        },
        "id": "v8K34_9RdSTx",
        "outputId": "a7b4e28f-822f-483e-fc27-34ce74ade616"
      },
      "execution_count": 6,
      "outputs": [
        {
          "output_type": "execute_result",
          "data": {
            "text/html": [
              "<div>\n",
              "<style scoped>\n",
              "    .dataframe tbody tr th:only-of-type {\n",
              "        vertical-align: middle;\n",
              "    }\n",
              "\n",
              "    .dataframe tbody tr th {\n",
              "        vertical-align: top;\n",
              "    }\n",
              "\n",
              "    .dataframe thead th {\n",
              "        text-align: right;\n",
              "    }\n",
              "</style>\n",
              "<table border=\"1\" class=\"dataframe\">\n",
              "  <thead>\n",
              "    <tr style=\"text-align: right;\">\n",
              "      <th></th>\n",
              "      <th>anonID</th>\n",
              "      <th>birthdate</th>\n",
              "      <th>routeDate</th>\n",
              "      <th>region</th>\n",
              "      <th>gender</th>\n",
              "      <th>areaWealthLevel</th>\n",
              "      <th>areaPopulation</th>\n",
              "      <th>badWeather</th>\n",
              "      <th>weatherRestrictions</th>\n",
              "      <th>routeTotalDistance</th>\n",
              "      <th>numberOfShops</th>\n",
              "      <th>marketShare</th>\n",
              "      <th>avgAreaBenefits</th>\n",
              "      <th>timeFromAvg</th>\n",
              "      <th>advertising</th>\n",
              "      <th>employeeLYScore</th>\n",
              "      <th>employeeTenure</th>\n",
              "      <th>employeePrevComps</th>\n",
              "      <th>success</th>\n",
              "    </tr>\n",
              "  </thead>\n",
              "  <tbody>\n",
              "    <tr>\n",
              "      <th>0</th>\n",
              "      <td>XLKC1691</td>\n",
              "      <td>23/10/1969</td>\n",
              "      <td>19/05/2020</td>\n",
              "      <td>NaN</td>\n",
              "      <td>M</td>\n",
              "      <td>Mid</td>\n",
              "      <td>30.66</td>\n",
              "      <td>No</td>\n",
              "      <td>No</td>\n",
              "      <td>28.3</td>\n",
              "      <td>26</td>\n",
              "      <td>49</td>\n",
              "      <td>18.9</td>\n",
              "      <td>0.35</td>\n",
              "      <td>3</td>\n",
              "      <td>4</td>\n",
              "      <td>1</td>\n",
              "      <td>1</td>\n",
              "      <td>NaN</td>\n",
              "    </tr>\n",
              "    <tr>\n",
              "      <th>1</th>\n",
              "      <td>KANY6459</td>\n",
              "      <td>14/04/1976</td>\n",
              "      <td>19/05/2020</td>\n",
              "      <td>LATAM</td>\n",
              "      <td>M</td>\n",
              "      <td>Mid</td>\n",
              "      <td>52.5</td>\n",
              "      <td>No</td>\n",
              "      <td>No</td>\n",
              "      <td>21.3</td>\n",
              "      <td>28</td>\n",
              "      <td>96</td>\n",
              "      <td>14.28</td>\n",
              "      <td>0.47</td>\n",
              "      <td>3</td>\n",
              "      <td>4</td>\n",
              "      <td>3</td>\n",
              "      <td>2</td>\n",
              "      <td>NaN</td>\n",
              "    </tr>\n",
              "    <tr>\n",
              "      <th>2</th>\n",
              "      <td>ULUZ5859</td>\n",
              "      <td>03/04/1985</td>\n",
              "      <td>NaN</td>\n",
              "      <td>NaN</td>\n",
              "      <td>M</td>\n",
              "      <td>High</td>\n",
              "      <td>25.08</td>\n",
              "      <td>Yes</td>\n",
              "      <td>No</td>\n",
              "      <td>25.9</td>\n",
              "      <td>25</td>\n",
              "      <td>76</td>\n",
              "      <td>14.01</td>\n",
              "      <td>NaN</td>\n",
              "      <td>2</td>\n",
              "      <td>3</td>\n",
              "      <td>1</td>\n",
              "      <td>1</td>\n",
              "      <td>NaN</td>\n",
              "    </tr>\n",
              "    <tr>\n",
              "      <th>3</th>\n",
              "      <td>LDCQ7279</td>\n",
              "      <td>24/03/1968</td>\n",
              "      <td>11/05/2020</td>\n",
              "      <td>NaN</td>\n",
              "      <td>M</td>\n",
              "      <td>Mid</td>\n",
              "      <td>37.14</td>\n",
              "      <td>No</td>\n",
              "      <td>No</td>\n",
              "      <td>24.3</td>\n",
              "      <td>26</td>\n",
              "      <td>65</td>\n",
              "      <td>19.2</td>\n",
              "      <td>-0.37</td>\n",
              "      <td>2</td>\n",
              "      <td>4</td>\n",
              "      <td>3</td>\n",
              "      <td>2</td>\n",
              "      <td>NaN</td>\n",
              "    </tr>\n",
              "    <tr>\n",
              "      <th>4</th>\n",
              "      <td>KIUB5860</td>\n",
              "      <td>22/04/1978</td>\n",
              "      <td>19/05/2020</td>\n",
              "      <td>AMESA</td>\n",
              "      <td>M</td>\n",
              "      <td>Low</td>\n",
              "      <td>11.71</td>\n",
              "      <td>No</td>\n",
              "      <td>No</td>\n",
              "      <td>22.7</td>\n",
              "      <td>22</td>\n",
              "      <td>72</td>\n",
              "      <td>12.37</td>\n",
              "      <td>0.44</td>\n",
              "      <td>2</td>\n",
              "      <td>3</td>\n",
              "      <td>3</td>\n",
              "      <td>2</td>\n",
              "      <td>NaN</td>\n",
              "    </tr>\n",
              "  </tbody>\n",
              "</table>\n",
              "</div>"
            ],
            "text/plain": [
              "     anonID   birthdate   routeDate  ... employeeTenure employeePrevComps success\n",
              "0  XLKC1691  23/10/1969  19/05/2020  ...              1                 1     NaN\n",
              "1  KANY6459  14/04/1976  19/05/2020  ...              3                 2     NaN\n",
              "2  ULUZ5859  03/04/1985         NaN  ...              1                 1     NaN\n",
              "3  LDCQ7279  24/03/1968  11/05/2020  ...              3                 2     NaN\n",
              "4  KIUB5860  22/04/1978  19/05/2020  ...              3                 2     NaN\n",
              "\n",
              "[5 rows x 19 columns]"
            ]
          },
          "metadata": {},
          "execution_count": 6
        }
      ]
    },
    {
      "cell_type": "code",
      "source": [
        "#converting date features into datetime readable format \n",
        "df['birthdate'] =  pd.to_datetime(df['birthdate'], format='%d/%m/%Y')\n",
        "\n",
        "#converting date of birth into age and dropping the column\n",
        "def age(born):\n",
        "    today = date.today()\n",
        "    return today.year - born.year - ((today.month, \n",
        "                                      today.day) < (born.month, \n",
        "                                                    born.day))\n",
        "\n",
        "df['Age'] = df['birthdate'].apply(age)\n",
        "\n",
        "#also dropping routeDate because all dates fall in the same month (17 months from now) and does not have any impact on the model\n",
        "data=df.drop(['birthdate','routeDate'],axis=1)\n",
        "  \n",
        "display(data)"
      ],
      "metadata": {
        "colab": {
          "base_uri": "https://localhost:8080/",
          "height": 444
        },
        "id": "NZ-FHrMQpxCZ",
        "outputId": "062e7cdf-ea25-4af5-dd43-58f5c0ba6cde"
      },
      "execution_count": 7,
      "outputs": [
        {
          "output_type": "display_data",
          "data": {
            "text/html": [
              "<div>\n",
              "<style scoped>\n",
              "    .dataframe tbody tr th:only-of-type {\n",
              "        vertical-align: middle;\n",
              "    }\n",
              "\n",
              "    .dataframe tbody tr th {\n",
              "        vertical-align: top;\n",
              "    }\n",
              "\n",
              "    .dataframe thead th {\n",
              "        text-align: right;\n",
              "    }\n",
              "</style>\n",
              "<table border=\"1\" class=\"dataframe\">\n",
              "  <thead>\n",
              "    <tr style=\"text-align: right;\">\n",
              "      <th></th>\n",
              "      <th>anonID</th>\n",
              "      <th>region</th>\n",
              "      <th>gender</th>\n",
              "      <th>areaWealthLevel</th>\n",
              "      <th>areaPopulation</th>\n",
              "      <th>badWeather</th>\n",
              "      <th>weatherRestrictions</th>\n",
              "      <th>routeTotalDistance</th>\n",
              "      <th>numberOfShops</th>\n",
              "      <th>marketShare</th>\n",
              "      <th>avgAreaBenefits</th>\n",
              "      <th>timeFromAvg</th>\n",
              "      <th>advertising</th>\n",
              "      <th>employeeLYScore</th>\n",
              "      <th>employeeTenure</th>\n",
              "      <th>employeePrevComps</th>\n",
              "      <th>success</th>\n",
              "      <th>Age</th>\n",
              "    </tr>\n",
              "  </thead>\n",
              "  <tbody>\n",
              "    <tr>\n",
              "      <th>0</th>\n",
              "      <td>XLKC1691</td>\n",
              "      <td>NaN</td>\n",
              "      <td>M</td>\n",
              "      <td>Mid</td>\n",
              "      <td>30.66</td>\n",
              "      <td>No</td>\n",
              "      <td>No</td>\n",
              "      <td>28.3</td>\n",
              "      <td>26</td>\n",
              "      <td>49</td>\n",
              "      <td>18.9</td>\n",
              "      <td>0.35</td>\n",
              "      <td>3</td>\n",
              "      <td>4</td>\n",
              "      <td>1</td>\n",
              "      <td>1</td>\n",
              "      <td>NaN</td>\n",
              "      <td>52</td>\n",
              "    </tr>\n",
              "    <tr>\n",
              "      <th>1</th>\n",
              "      <td>KANY6459</td>\n",
              "      <td>LATAM</td>\n",
              "      <td>M</td>\n",
              "      <td>Mid</td>\n",
              "      <td>52.5</td>\n",
              "      <td>No</td>\n",
              "      <td>No</td>\n",
              "      <td>21.3</td>\n",
              "      <td>28</td>\n",
              "      <td>96</td>\n",
              "      <td>14.28</td>\n",
              "      <td>0.47</td>\n",
              "      <td>3</td>\n",
              "      <td>4</td>\n",
              "      <td>3</td>\n",
              "      <td>2</td>\n",
              "      <td>NaN</td>\n",
              "      <td>45</td>\n",
              "    </tr>\n",
              "    <tr>\n",
              "      <th>2</th>\n",
              "      <td>ULUZ5859</td>\n",
              "      <td>NaN</td>\n",
              "      <td>M</td>\n",
              "      <td>High</td>\n",
              "      <td>25.08</td>\n",
              "      <td>Yes</td>\n",
              "      <td>No</td>\n",
              "      <td>25.9</td>\n",
              "      <td>25</td>\n",
              "      <td>76</td>\n",
              "      <td>14.01</td>\n",
              "      <td>NaN</td>\n",
              "      <td>2</td>\n",
              "      <td>3</td>\n",
              "      <td>1</td>\n",
              "      <td>1</td>\n",
              "      <td>NaN</td>\n",
              "      <td>36</td>\n",
              "    </tr>\n",
              "    <tr>\n",
              "      <th>3</th>\n",
              "      <td>LDCQ7279</td>\n",
              "      <td>NaN</td>\n",
              "      <td>M</td>\n",
              "      <td>Mid</td>\n",
              "      <td>37.14</td>\n",
              "      <td>No</td>\n",
              "      <td>No</td>\n",
              "      <td>24.3</td>\n",
              "      <td>26</td>\n",
              "      <td>65</td>\n",
              "      <td>19.2</td>\n",
              "      <td>-0.37</td>\n",
              "      <td>2</td>\n",
              "      <td>4</td>\n",
              "      <td>3</td>\n",
              "      <td>2</td>\n",
              "      <td>NaN</td>\n",
              "      <td>53</td>\n",
              "    </tr>\n",
              "    <tr>\n",
              "      <th>4</th>\n",
              "      <td>KIUB5860</td>\n",
              "      <td>AMESA</td>\n",
              "      <td>M</td>\n",
              "      <td>Low</td>\n",
              "      <td>11.71</td>\n",
              "      <td>No</td>\n",
              "      <td>No</td>\n",
              "      <td>22.7</td>\n",
              "      <td>22</td>\n",
              "      <td>72</td>\n",
              "      <td>12.37</td>\n",
              "      <td>0.44</td>\n",
              "      <td>2</td>\n",
              "      <td>3</td>\n",
              "      <td>3</td>\n",
              "      <td>2</td>\n",
              "      <td>NaN</td>\n",
              "      <td>43</td>\n",
              "    </tr>\n",
              "    <tr>\n",
              "      <th>...</th>\n",
              "      <td>...</td>\n",
              "      <td>...</td>\n",
              "      <td>...</td>\n",
              "      <td>...</td>\n",
              "      <td>...</td>\n",
              "      <td>...</td>\n",
              "      <td>...</td>\n",
              "      <td>...</td>\n",
              "      <td>...</td>\n",
              "      <td>...</td>\n",
              "      <td>...</td>\n",
              "      <td>...</td>\n",
              "      <td>...</td>\n",
              "      <td>...</td>\n",
              "      <td>...</td>\n",
              "      <td>...</td>\n",
              "      <td>...</td>\n",
              "      <td>...</td>\n",
              "    </tr>\n",
              "    <tr>\n",
              "      <th>29384</th>\n",
              "      <td>MTVA4012</td>\n",
              "      <td>LATAM</td>\n",
              "      <td>M</td>\n",
              "      <td>Mid</td>\n",
              "      <td>10.58</td>\n",
              "      <td>No</td>\n",
              "      <td>No</td>\n",
              "      <td>27.6</td>\n",
              "      <td>27</td>\n",
              "      <td>92</td>\n",
              "      <td>14.11</td>\n",
              "      <td>1.75</td>\n",
              "      <td>0</td>\n",
              "      <td>1</td>\n",
              "      <td>1</td>\n",
              "      <td>3</td>\n",
              "      <td>0</td>\n",
              "      <td>45</td>\n",
              "    </tr>\n",
              "    <tr>\n",
              "      <th>29385</th>\n",
              "      <td>HLWO9554</td>\n",
              "      <td>APAC</td>\n",
              "      <td>M</td>\n",
              "      <td>Mid</td>\n",
              "      <td>27.93</td>\n",
              "      <td>No</td>\n",
              "      <td>No</td>\n",
              "      <td>22.3</td>\n",
              "      <td>24</td>\n",
              "      <td>61</td>\n",
              "      <td>13.44</td>\n",
              "      <td>0.2</td>\n",
              "      <td>1</td>\n",
              "      <td>3</td>\n",
              "      <td>2</td>\n",
              "      <td>1</td>\n",
              "      <td>1</td>\n",
              "      <td>36</td>\n",
              "    </tr>\n",
              "    <tr>\n",
              "      <th>29386</th>\n",
              "      <td>LRYK5563</td>\n",
              "      <td>Europe</td>\n",
              "      <td>M</td>\n",
              "      <td>High</td>\n",
              "      <td>20.33</td>\n",
              "      <td>No</td>\n",
              "      <td>No</td>\n",
              "      <td>28.7</td>\n",
              "      <td>24</td>\n",
              "      <td>69</td>\n",
              "      <td>26.75</td>\n",
              "      <td>0.8</td>\n",
              "      <td>3</td>\n",
              "      <td>4</td>\n",
              "      <td>2</td>\n",
              "      <td>3</td>\n",
              "      <td>1</td>\n",
              "      <td>49</td>\n",
              "    </tr>\n",
              "    <tr>\n",
              "      <th>29387</th>\n",
              "      <td>ALFW5863</td>\n",
              "      <td>APAC</td>\n",
              "      <td>M</td>\n",
              "      <td>NaN</td>\n",
              "      <td>7.56</td>\n",
              "      <td>Yes</td>\n",
              "      <td>No</td>\n",
              "      <td>25</td>\n",
              "      <td>24</td>\n",
              "      <td>59</td>\n",
              "      <td>14.28</td>\n",
              "      <td>NaN</td>\n",
              "      <td>2</td>\n",
              "      <td>3</td>\n",
              "      <td>1</td>\n",
              "      <td>2</td>\n",
              "      <td>0</td>\n",
              "      <td>52</td>\n",
              "    </tr>\n",
              "    <tr>\n",
              "      <th>29388</th>\n",
              "      <td>UTYD2330</td>\n",
              "      <td>Europe</td>\n",
              "      <td>M</td>\n",
              "      <td>NaN</td>\n",
              "      <td>25.62</td>\n",
              "      <td>No</td>\n",
              "      <td>No</td>\n",
              "      <td>27.5</td>\n",
              "      <td>23</td>\n",
              "      <td>92</td>\n",
              "      <td>13.44</td>\n",
              "      <td>0.31</td>\n",
              "      <td>2</td>\n",
              "      <td>3</td>\n",
              "      <td>3</td>\n",
              "      <td>1</td>\n",
              "      <td>1</td>\n",
              "      <td>47</td>\n",
              "    </tr>\n",
              "  </tbody>\n",
              "</table>\n",
              "<p>29389 rows × 18 columns</p>\n",
              "</div>"
            ],
            "text/plain": [
              "         anonID  region gender  ... employeePrevComps success Age\n",
              "0      XLKC1691     NaN      M  ...                 1     NaN  52\n",
              "1      KANY6459   LATAM      M  ...                 2     NaN  45\n",
              "2      ULUZ5859     NaN      M  ...                 1     NaN  36\n",
              "3      LDCQ7279     NaN      M  ...                 2     NaN  53\n",
              "4      KIUB5860   AMESA      M  ...                 2     NaN  43\n",
              "...         ...     ...    ...  ...               ...     ...  ..\n",
              "29384  MTVA4012   LATAM      M  ...                 3       0  45\n",
              "29385  HLWO9554    APAC      M  ...                 1       1  36\n",
              "29386  LRYK5563  Europe      M  ...                 3       1  49\n",
              "29387  ALFW5863    APAC      M  ...                 2       0  52\n",
              "29388  UTYD2330  Europe      M  ...                 1       1  47\n",
              "\n",
              "[29389 rows x 18 columns]"
            ]
          },
          "metadata": {}
        }
      ]
    },
    {
      "cell_type": "code",
      "source": [
        "#dropping anonID because it has no relevance to the prediction\n",
        "id_column=data.pop('anonID')"
      ],
      "metadata": {
        "id": "SLSJoMoqnadA"
      },
      "execution_count": 8,
      "outputs": []
    },
    {
      "cell_type": "code",
      "source": [
        "#one hot encoding the categorical variables\n",
        "cat_var = ['region','gender','areaWealthLevel']\n",
        "data = pd.get_dummies(data, columns = cat_var)"
      ],
      "metadata": {
        "id": "abLtOlJmv1Y4"
      },
      "execution_count": 9,
      "outputs": []
    },
    {
      "cell_type": "code",
      "source": [
        "data.head(5)"
      ],
      "metadata": {
        "colab": {
          "base_uri": "https://localhost:8080/",
          "height": 226
        },
        "id": "GTPbhPJzo8QW",
        "outputId": "202fe07f-83a3-4721-fc75-d1fafefc81e4"
      },
      "execution_count": 10,
      "outputs": [
        {
          "output_type": "execute_result",
          "data": {
            "text/html": [
              "<div>\n",
              "<style scoped>\n",
              "    .dataframe tbody tr th:only-of-type {\n",
              "        vertical-align: middle;\n",
              "    }\n",
              "\n",
              "    .dataframe tbody tr th {\n",
              "        vertical-align: top;\n",
              "    }\n",
              "\n",
              "    .dataframe thead th {\n",
              "        text-align: right;\n",
              "    }\n",
              "</style>\n",
              "<table border=\"1\" class=\"dataframe\">\n",
              "  <thead>\n",
              "    <tr style=\"text-align: right;\">\n",
              "      <th></th>\n",
              "      <th>areaPopulation</th>\n",
              "      <th>badWeather</th>\n",
              "      <th>weatherRestrictions</th>\n",
              "      <th>routeTotalDistance</th>\n",
              "      <th>numberOfShops</th>\n",
              "      <th>marketShare</th>\n",
              "      <th>avgAreaBenefits</th>\n",
              "      <th>timeFromAvg</th>\n",
              "      <th>advertising</th>\n",
              "      <th>employeeLYScore</th>\n",
              "      <th>employeeTenure</th>\n",
              "      <th>employeePrevComps</th>\n",
              "      <th>success</th>\n",
              "      <th>Age</th>\n",
              "      <th>region_AMESA</th>\n",
              "      <th>region_APAC</th>\n",
              "      <th>region_Europe</th>\n",
              "      <th>region_LATAM</th>\n",
              "      <th>gender_F</th>\n",
              "      <th>gender_M</th>\n",
              "      <th>gender_X</th>\n",
              "      <th>areaWealthLevel_High</th>\n",
              "      <th>areaWealthLevel_Low</th>\n",
              "      <th>areaWealthLevel_Mid</th>\n",
              "    </tr>\n",
              "  </thead>\n",
              "  <tbody>\n",
              "    <tr>\n",
              "      <th>0</th>\n",
              "      <td>30.66</td>\n",
              "      <td>No</td>\n",
              "      <td>No</td>\n",
              "      <td>28.3</td>\n",
              "      <td>26</td>\n",
              "      <td>49</td>\n",
              "      <td>18.9</td>\n",
              "      <td>0.35</td>\n",
              "      <td>3</td>\n",
              "      <td>4</td>\n",
              "      <td>1</td>\n",
              "      <td>1</td>\n",
              "      <td>NaN</td>\n",
              "      <td>52</td>\n",
              "      <td>0</td>\n",
              "      <td>0</td>\n",
              "      <td>0</td>\n",
              "      <td>0</td>\n",
              "      <td>0</td>\n",
              "      <td>1</td>\n",
              "      <td>0</td>\n",
              "      <td>0</td>\n",
              "      <td>0</td>\n",
              "      <td>1</td>\n",
              "    </tr>\n",
              "    <tr>\n",
              "      <th>1</th>\n",
              "      <td>52.5</td>\n",
              "      <td>No</td>\n",
              "      <td>No</td>\n",
              "      <td>21.3</td>\n",
              "      <td>28</td>\n",
              "      <td>96</td>\n",
              "      <td>14.28</td>\n",
              "      <td>0.47</td>\n",
              "      <td>3</td>\n",
              "      <td>4</td>\n",
              "      <td>3</td>\n",
              "      <td>2</td>\n",
              "      <td>NaN</td>\n",
              "      <td>45</td>\n",
              "      <td>0</td>\n",
              "      <td>0</td>\n",
              "      <td>0</td>\n",
              "      <td>1</td>\n",
              "      <td>0</td>\n",
              "      <td>1</td>\n",
              "      <td>0</td>\n",
              "      <td>0</td>\n",
              "      <td>0</td>\n",
              "      <td>1</td>\n",
              "    </tr>\n",
              "    <tr>\n",
              "      <th>2</th>\n",
              "      <td>25.08</td>\n",
              "      <td>Yes</td>\n",
              "      <td>No</td>\n",
              "      <td>25.9</td>\n",
              "      <td>25</td>\n",
              "      <td>76</td>\n",
              "      <td>14.01</td>\n",
              "      <td>NaN</td>\n",
              "      <td>2</td>\n",
              "      <td>3</td>\n",
              "      <td>1</td>\n",
              "      <td>1</td>\n",
              "      <td>NaN</td>\n",
              "      <td>36</td>\n",
              "      <td>0</td>\n",
              "      <td>0</td>\n",
              "      <td>0</td>\n",
              "      <td>0</td>\n",
              "      <td>0</td>\n",
              "      <td>1</td>\n",
              "      <td>0</td>\n",
              "      <td>1</td>\n",
              "      <td>0</td>\n",
              "      <td>0</td>\n",
              "    </tr>\n",
              "    <tr>\n",
              "      <th>3</th>\n",
              "      <td>37.14</td>\n",
              "      <td>No</td>\n",
              "      <td>No</td>\n",
              "      <td>24.3</td>\n",
              "      <td>26</td>\n",
              "      <td>65</td>\n",
              "      <td>19.2</td>\n",
              "      <td>-0.37</td>\n",
              "      <td>2</td>\n",
              "      <td>4</td>\n",
              "      <td>3</td>\n",
              "      <td>2</td>\n",
              "      <td>NaN</td>\n",
              "      <td>53</td>\n",
              "      <td>0</td>\n",
              "      <td>0</td>\n",
              "      <td>0</td>\n",
              "      <td>0</td>\n",
              "      <td>0</td>\n",
              "      <td>1</td>\n",
              "      <td>0</td>\n",
              "      <td>0</td>\n",
              "      <td>0</td>\n",
              "      <td>1</td>\n",
              "    </tr>\n",
              "    <tr>\n",
              "      <th>4</th>\n",
              "      <td>11.71</td>\n",
              "      <td>No</td>\n",
              "      <td>No</td>\n",
              "      <td>22.7</td>\n",
              "      <td>22</td>\n",
              "      <td>72</td>\n",
              "      <td>12.37</td>\n",
              "      <td>0.44</td>\n",
              "      <td>2</td>\n",
              "      <td>3</td>\n",
              "      <td>3</td>\n",
              "      <td>2</td>\n",
              "      <td>NaN</td>\n",
              "      <td>43</td>\n",
              "      <td>1</td>\n",
              "      <td>0</td>\n",
              "      <td>0</td>\n",
              "      <td>0</td>\n",
              "      <td>0</td>\n",
              "      <td>1</td>\n",
              "      <td>0</td>\n",
              "      <td>0</td>\n",
              "      <td>1</td>\n",
              "      <td>0</td>\n",
              "    </tr>\n",
              "  </tbody>\n",
              "</table>\n",
              "</div>"
            ],
            "text/plain": [
              "  areaPopulation badWeather  ... areaWealthLevel_Low areaWealthLevel_Mid\n",
              "0          30.66         No  ...                   0                   1\n",
              "1           52.5         No  ...                   0                   1\n",
              "2          25.08        Yes  ...                   0                   0\n",
              "3          37.14         No  ...                   0                   1\n",
              "4          11.71         No  ...                   1                   0\n",
              "\n",
              "[5 rows x 24 columns]"
            ]
          },
          "metadata": {},
          "execution_count": 10
        }
      ]
    },
    {
      "cell_type": "code",
      "source": [
        "#instead of dropping rows with null values replacing them with median\n",
        "data['timeFromAvg'] = data['timeFromAvg'].fillna((data['timeFromAvg'].median()))\n"
      ],
      "metadata": {
        "id": "Sun5ePBjwis1"
      },
      "execution_count": 11,
      "outputs": []
    },
    {
      "cell_type": "code",
      "source": [
        "data.info"
      ],
      "metadata": {
        "colab": {
          "base_uri": "https://localhost:8080/"
        },
        "id": "UyIOcxYdyjmf",
        "outputId": "eb61fd07-d024-4d3e-a35a-81d299466147"
      },
      "execution_count": 12,
      "outputs": [
        {
          "output_type": "execute_result",
          "data": {
            "text/plain": [
              "<bound method DataFrame.info of       areaPopulation badWeather  ... areaWealthLevel_Low areaWealthLevel_Mid\n",
              "0              30.66         No  ...                   0                   1\n",
              "1               52.5         No  ...                   0                   1\n",
              "2              25.08        Yes  ...                   0                   0\n",
              "3              37.14         No  ...                   0                   1\n",
              "4              11.71         No  ...                   1                   0\n",
              "...              ...        ...  ...                 ...                 ...\n",
              "29384          10.58         No  ...                   0                   1\n",
              "29385          27.93         No  ...                   0                   1\n",
              "29386          20.33         No  ...                   0                   0\n",
              "29387           7.56        Yes  ...                   0                   0\n",
              "29388          25.62         No  ...                   0                   0\n",
              "\n",
              "[29389 rows x 24 columns]>"
            ]
          },
          "metadata": {},
          "execution_count": 12
        }
      ]
    },
    {
      "cell_type": "code",
      "source": [
        "#label encoding the categorical variables and keeping the sequence\n",
        "le = preprocessing.LabelEncoder()\n",
        "label_encode = ['badWeather','weatherRestrictions']\n",
        "for col in label_encode:\n",
        "  data[col] = le.fit_transform(data[col])"
      ],
      "metadata": {
        "id": "IhDyt2iW1ptj"
      },
      "execution_count": 13,
      "outputs": []
    },
    {
      "cell_type": "code",
      "source": [
        "data.head(5)"
      ],
      "metadata": {
        "colab": {
          "base_uri": "https://localhost:8080/",
          "height": 226
        },
        "id": "W-opS9zL2S4b",
        "outputId": "133d875b-fb82-4245-bfc1-a6f2baf2cc70"
      },
      "execution_count": 14,
      "outputs": [
        {
          "output_type": "execute_result",
          "data": {
            "text/html": [
              "<div>\n",
              "<style scoped>\n",
              "    .dataframe tbody tr th:only-of-type {\n",
              "        vertical-align: middle;\n",
              "    }\n",
              "\n",
              "    .dataframe tbody tr th {\n",
              "        vertical-align: top;\n",
              "    }\n",
              "\n",
              "    .dataframe thead th {\n",
              "        text-align: right;\n",
              "    }\n",
              "</style>\n",
              "<table border=\"1\" class=\"dataframe\">\n",
              "  <thead>\n",
              "    <tr style=\"text-align: right;\">\n",
              "      <th></th>\n",
              "      <th>areaPopulation</th>\n",
              "      <th>badWeather</th>\n",
              "      <th>weatherRestrictions</th>\n",
              "      <th>routeTotalDistance</th>\n",
              "      <th>numberOfShops</th>\n",
              "      <th>marketShare</th>\n",
              "      <th>avgAreaBenefits</th>\n",
              "      <th>timeFromAvg</th>\n",
              "      <th>advertising</th>\n",
              "      <th>employeeLYScore</th>\n",
              "      <th>employeeTenure</th>\n",
              "      <th>employeePrevComps</th>\n",
              "      <th>success</th>\n",
              "      <th>Age</th>\n",
              "      <th>region_AMESA</th>\n",
              "      <th>region_APAC</th>\n",
              "      <th>region_Europe</th>\n",
              "      <th>region_LATAM</th>\n",
              "      <th>gender_F</th>\n",
              "      <th>gender_M</th>\n",
              "      <th>gender_X</th>\n",
              "      <th>areaWealthLevel_High</th>\n",
              "      <th>areaWealthLevel_Low</th>\n",
              "      <th>areaWealthLevel_Mid</th>\n",
              "    </tr>\n",
              "  </thead>\n",
              "  <tbody>\n",
              "    <tr>\n",
              "      <th>0</th>\n",
              "      <td>30.66</td>\n",
              "      <td>0</td>\n",
              "      <td>0</td>\n",
              "      <td>28.3</td>\n",
              "      <td>26</td>\n",
              "      <td>49</td>\n",
              "      <td>18.9</td>\n",
              "      <td>0.35</td>\n",
              "      <td>3</td>\n",
              "      <td>4</td>\n",
              "      <td>1</td>\n",
              "      <td>1</td>\n",
              "      <td>NaN</td>\n",
              "      <td>52</td>\n",
              "      <td>0</td>\n",
              "      <td>0</td>\n",
              "      <td>0</td>\n",
              "      <td>0</td>\n",
              "      <td>0</td>\n",
              "      <td>1</td>\n",
              "      <td>0</td>\n",
              "      <td>0</td>\n",
              "      <td>0</td>\n",
              "      <td>1</td>\n",
              "    </tr>\n",
              "    <tr>\n",
              "      <th>1</th>\n",
              "      <td>52.5</td>\n",
              "      <td>0</td>\n",
              "      <td>0</td>\n",
              "      <td>21.3</td>\n",
              "      <td>28</td>\n",
              "      <td>96</td>\n",
              "      <td>14.28</td>\n",
              "      <td>0.47</td>\n",
              "      <td>3</td>\n",
              "      <td>4</td>\n",
              "      <td>3</td>\n",
              "      <td>2</td>\n",
              "      <td>NaN</td>\n",
              "      <td>45</td>\n",
              "      <td>0</td>\n",
              "      <td>0</td>\n",
              "      <td>0</td>\n",
              "      <td>1</td>\n",
              "      <td>0</td>\n",
              "      <td>1</td>\n",
              "      <td>0</td>\n",
              "      <td>0</td>\n",
              "      <td>0</td>\n",
              "      <td>1</td>\n",
              "    </tr>\n",
              "    <tr>\n",
              "      <th>2</th>\n",
              "      <td>25.08</td>\n",
              "      <td>1</td>\n",
              "      <td>0</td>\n",
              "      <td>25.9</td>\n",
              "      <td>25</td>\n",
              "      <td>76</td>\n",
              "      <td>14.01</td>\n",
              "      <td>0.08</td>\n",
              "      <td>2</td>\n",
              "      <td>3</td>\n",
              "      <td>1</td>\n",
              "      <td>1</td>\n",
              "      <td>NaN</td>\n",
              "      <td>36</td>\n",
              "      <td>0</td>\n",
              "      <td>0</td>\n",
              "      <td>0</td>\n",
              "      <td>0</td>\n",
              "      <td>0</td>\n",
              "      <td>1</td>\n",
              "      <td>0</td>\n",
              "      <td>1</td>\n",
              "      <td>0</td>\n",
              "      <td>0</td>\n",
              "    </tr>\n",
              "    <tr>\n",
              "      <th>3</th>\n",
              "      <td>37.14</td>\n",
              "      <td>0</td>\n",
              "      <td>0</td>\n",
              "      <td>24.3</td>\n",
              "      <td>26</td>\n",
              "      <td>65</td>\n",
              "      <td>19.2</td>\n",
              "      <td>-0.37</td>\n",
              "      <td>2</td>\n",
              "      <td>4</td>\n",
              "      <td>3</td>\n",
              "      <td>2</td>\n",
              "      <td>NaN</td>\n",
              "      <td>53</td>\n",
              "      <td>0</td>\n",
              "      <td>0</td>\n",
              "      <td>0</td>\n",
              "      <td>0</td>\n",
              "      <td>0</td>\n",
              "      <td>1</td>\n",
              "      <td>0</td>\n",
              "      <td>0</td>\n",
              "      <td>0</td>\n",
              "      <td>1</td>\n",
              "    </tr>\n",
              "    <tr>\n",
              "      <th>4</th>\n",
              "      <td>11.71</td>\n",
              "      <td>0</td>\n",
              "      <td>0</td>\n",
              "      <td>22.7</td>\n",
              "      <td>22</td>\n",
              "      <td>72</td>\n",
              "      <td>12.37</td>\n",
              "      <td>0.44</td>\n",
              "      <td>2</td>\n",
              "      <td>3</td>\n",
              "      <td>3</td>\n",
              "      <td>2</td>\n",
              "      <td>NaN</td>\n",
              "      <td>43</td>\n",
              "      <td>1</td>\n",
              "      <td>0</td>\n",
              "      <td>0</td>\n",
              "      <td>0</td>\n",
              "      <td>0</td>\n",
              "      <td>1</td>\n",
              "      <td>0</td>\n",
              "      <td>0</td>\n",
              "      <td>1</td>\n",
              "      <td>0</td>\n",
              "    </tr>\n",
              "  </tbody>\n",
              "</table>\n",
              "</div>"
            ],
            "text/plain": [
              "  areaPopulation  badWeather  ...  areaWealthLevel_Low areaWealthLevel_Mid\n",
              "0          30.66           0  ...                    0                   1\n",
              "1           52.5           0  ...                    0                   1\n",
              "2          25.08           1  ...                    0                   0\n",
              "3          37.14           0  ...                    0                   1\n",
              "4          11.71           0  ...                    1                   0\n",
              "\n",
              "[5 rows x 24 columns]"
            ]
          },
          "metadata": {},
          "execution_count": 14
        }
      ]
    },
    {
      "cell_type": "code",
      "source": [
        "#updating the NA values in avgAreaBenefits with 0\n",
        "data['avgAreaBenefits'] = data['avgAreaBenefits'].fillna(0)"
      ],
      "metadata": {
        "id": "ogPWYA6huq6N"
      },
      "execution_count": 15,
      "outputs": []
    },
    {
      "cell_type": "code",
      "source": [
        "#splitting the data based of target variable\n",
        "mask = data['success'].isnull()\n",
        "data_witout_success_pred = data[mask]\n",
        "data = data[~mask]"
      ],
      "metadata": {
        "id": "Fd0_BuGwh_-k"
      },
      "execution_count": 16,
      "outputs": []
    },
    {
      "cell_type": "code",
      "source": [
        "#plotting the target variable\n",
        "sns.countplot(data['success'])"
      ],
      "metadata": {
        "colab": {
          "base_uri": "https://localhost:8080/",
          "height": 351
        },
        "id": "-RPxYygFvq51",
        "outputId": "86bd7a6d-e0cf-467f-fbef-a4a066c11f3e"
      },
      "execution_count": 17,
      "outputs": [
        {
          "output_type": "stream",
          "name": "stderr",
          "text": [
            "/usr/local/lib/python3.7/dist-packages/seaborn/_decorators.py:43: FutureWarning: Pass the following variable as a keyword arg: x. From version 0.12, the only valid positional argument will be `data`, and passing other arguments without an explicit keyword will result in an error or misinterpretation.\n",
            "  FutureWarning\n"
          ]
        },
        {
          "output_type": "execute_result",
          "data": {
            "text/plain": [
              "<matplotlib.axes._subplots.AxesSubplot at 0x7f05b38ea710>"
            ]
          },
          "metadata": {},
          "execution_count": 17
        },
        {
          "output_type": "display_data",
          "data": {
            "image/png": "[encoded data removed]",
            "text/plain": [
              "<Figure size 432x288 with 1 Axes>"
            ]
          },
          "metadata": {
            "needs_background": "light"
          }
        }
      ]
    },
    {
      "cell_type": "code",
      "source": [
        "data['success'].value_counts()"
      ],
      "metadata": {
        "colab": {
          "base_uri": "https://localhost:8080/"
        },
        "id": "95V-dY9KfPj2",
        "outputId": "a9d5317e-0ed7-4956-9a4e-96134f0eeca5"
      },
      "execution_count": 18,
      "outputs": [
        {
          "output_type": "execute_result",
          "data": {
            "text/plain": [
              "1    22647\n",
              "0      864\n",
              "Name: success, dtype: int64"
            ]
          },
          "metadata": {},
          "execution_count": 18
        }
      ]
    },
    {
      "cell_type": "markdown",
      "source": [
        "success rate in prediction variable in given data is very high which shows the highly imbalanced data"
      ],
      "metadata": {
        "id": "rQGP_ApgfHLo"
      }
    },
    {
      "cell_type": "code",
      "source": [
        "#converting the data type object to numeric for further data analysis\n",
        "for i in data.columns:\n",
        "  data = data.apply(pd.to_numeric)\n"
      ],
      "metadata": {
        "id": "03KK0550t4Xb"
      },
      "execution_count": 19,
      "outputs": []
    },
    {
      "cell_type": "code",
      "source": [
        "data.describe().transpose()"
      ],
      "metadata": {
        "colab": {
          "base_uri": "https://localhost:8080/",
          "height": 802
        },
        "id": "IGA2sf0vO5R8",
        "outputId": "2c41e1dd-2f4a-4769-ba2c-9a2709550e0e"
      },
      "execution_count": 20,
      "outputs": [
        {
          "output_type": "execute_result",
          "data": {
            "text/html": [
              "<div>\n",
              "<style scoped>\n",
              "    .dataframe tbody tr th:only-of-type {\n",
              "        vertical-align: middle;\n",
              "    }\n",
              "\n",
              "    .dataframe tbody tr th {\n",
              "        vertical-align: top;\n",
              "    }\n",
              "\n",
              "    .dataframe thead th {\n",
              "        text-align: right;\n",
              "    }\n",
              "</style>\n",
              "<table border=\"1\" class=\"dataframe\">\n",
              "  <thead>\n",
              "    <tr style=\"text-align: right;\">\n",
              "      <th></th>\n",
              "      <th>count</th>\n",
              "      <th>mean</th>\n",
              "      <th>std</th>\n",
              "      <th>min</th>\n",
              "      <th>25%</th>\n",
              "      <th>50%</th>\n",
              "      <th>75%</th>\n",
              "      <th>max</th>\n",
              "    </tr>\n",
              "  </thead>\n",
              "  <tbody>\n",
              "    <tr>\n",
              "      <th>areaPopulation</th>\n",
              "      <td>23511.0</td>\n",
              "      <td>26.875914</td>\n",
              "      <td>24.357718</td>\n",
              "      <td>1.15</td>\n",
              "      <td>7.36</td>\n",
              "      <td>21.73</td>\n",
              "      <td>41.37</td>\n",
              "      <td>1832.47</td>\n",
              "    </tr>\n",
              "    <tr>\n",
              "      <th>badWeather</th>\n",
              "      <td>23511.0</td>\n",
              "      <td>0.084811</td>\n",
              "      <td>0.278607</td>\n",
              "      <td>0.00</td>\n",
              "      <td>0.00</td>\n",
              "      <td>0.00</td>\n",
              "      <td>0.00</td>\n",
              "      <td>1.00</td>\n",
              "    </tr>\n",
              "    <tr>\n",
              "      <th>weatherRestrictions</th>\n",
              "      <td>23511.0</td>\n",
              "      <td>0.014802</td>\n",
              "      <td>0.120761</td>\n",
              "      <td>0.00</td>\n",
              "      <td>0.00</td>\n",
              "      <td>0.00</td>\n",
              "      <td>0.00</td>\n",
              "      <td>1.00</td>\n",
              "    </tr>\n",
              "    <tr>\n",
              "      <th>routeTotalDistance</th>\n",
              "      <td>23511.0</td>\n",
              "      <td>24.402497</td>\n",
              "      <td>3.280378</td>\n",
              "      <td>13.90</td>\n",
              "      <td>22.50</td>\n",
              "      <td>24.00</td>\n",
              "      <td>25.90</td>\n",
              "      <td>108.50</td>\n",
              "    </tr>\n",
              "    <tr>\n",
              "      <th>numberOfShops</th>\n",
              "      <td>23511.0</td>\n",
              "      <td>24.841904</td>\n",
              "      <td>10.678161</td>\n",
              "      <td>18.00</td>\n",
              "      <td>23.00</td>\n",
              "      <td>25.00</td>\n",
              "      <td>27.00</td>\n",
              "      <td>1623.00</td>\n",
              "    </tr>\n",
              "    <tr>\n",
              "      <th>marketShare</th>\n",
              "      <td>23511.0</td>\n",
              "      <td>69.872698</td>\n",
              "      <td>14.671810</td>\n",
              "      <td>15.00</td>\n",
              "      <td>60.00</td>\n",
              "      <td>70.00</td>\n",
              "      <td>80.00</td>\n",
              "      <td>100.00</td>\n",
              "    </tr>\n",
              "    <tr>\n",
              "      <th>avgAreaBenefits</th>\n",
              "      <td>23511.0</td>\n",
              "      <td>19.213775</td>\n",
              "      <td>9.247303</td>\n",
              "      <td>0.00</td>\n",
              "      <td>14.91</td>\n",
              "      <td>18.01</td>\n",
              "      <td>21.02</td>\n",
              "      <td>145.53</td>\n",
              "    </tr>\n",
              "    <tr>\n",
              "      <th>timeFromAvg</th>\n",
              "      <td>23511.0</td>\n",
              "      <td>0.034612</td>\n",
              "      <td>0.420185</td>\n",
              "      <td>-1.25</td>\n",
              "      <td>-0.06</td>\n",
              "      <td>0.08</td>\n",
              "      <td>0.20</td>\n",
              "      <td>1.82</td>\n",
              "    </tr>\n",
              "    <tr>\n",
              "      <th>advertising</th>\n",
              "      <td>23511.0</td>\n",
              "      <td>1.920548</td>\n",
              "      <td>1.110554</td>\n",
              "      <td>0.00</td>\n",
              "      <td>1.00</td>\n",
              "      <td>2.00</td>\n",
              "      <td>3.00</td>\n",
              "      <td>3.00</td>\n",
              "    </tr>\n",
              "    <tr>\n",
              "      <th>employeeLYScore</th>\n",
              "      <td>23511.0</td>\n",
              "      <td>3.334907</td>\n",
              "      <td>0.839298</td>\n",
              "      <td>1.00</td>\n",
              "      <td>3.00</td>\n",
              "      <td>3.00</td>\n",
              "      <td>4.00</td>\n",
              "      <td>5.00</td>\n",
              "    </tr>\n",
              "    <tr>\n",
              "      <th>employeeTenure</th>\n",
              "      <td>23511.0</td>\n",
              "      <td>1.977713</td>\n",
              "      <td>0.927539</td>\n",
              "      <td>0.00</td>\n",
              "      <td>1.00</td>\n",
              "      <td>2.00</td>\n",
              "      <td>3.00</td>\n",
              "      <td>3.00</td>\n",
              "    </tr>\n",
              "    <tr>\n",
              "      <th>employeePrevComps</th>\n",
              "      <td>23511.0</td>\n",
              "      <td>1.543703</td>\n",
              "      <td>0.601036</td>\n",
              "      <td>0.00</td>\n",
              "      <td>1.00</td>\n",
              "      <td>2.00</td>\n",
              "      <td>2.00</td>\n",
              "      <td>3.00</td>\n",
              "    </tr>\n",
              "    <tr>\n",
              "      <th>success</th>\n",
              "      <td>23511.0</td>\n",
              "      <td>0.963251</td>\n",
              "      <td>0.188148</td>\n",
              "      <td>0.00</td>\n",
              "      <td>1.00</td>\n",
              "      <td>1.00</td>\n",
              "      <td>1.00</td>\n",
              "      <td>1.00</td>\n",
              "    </tr>\n",
              "    <tr>\n",
              "      <th>Age</th>\n",
              "      <td>23511.0</td>\n",
              "      <td>46.467015</td>\n",
              "      <td>8.623408</td>\n",
              "      <td>31.00</td>\n",
              "      <td>39.00</td>\n",
              "      <td>46.00</td>\n",
              "      <td>54.00</td>\n",
              "      <td>61.00</td>\n",
              "    </tr>\n",
              "    <tr>\n",
              "      <th>region_AMESA</th>\n",
              "      <td>23511.0</td>\n",
              "      <td>0.202884</td>\n",
              "      <td>0.402155</td>\n",
              "      <td>0.00</td>\n",
              "      <td>0.00</td>\n",
              "      <td>0.00</td>\n",
              "      <td>0.00</td>\n",
              "      <td>1.00</td>\n",
              "    </tr>\n",
              "    <tr>\n",
              "      <th>region_APAC</th>\n",
              "      <td>23511.0</td>\n",
              "      <td>0.200417</td>\n",
              "      <td>0.400321</td>\n",
              "      <td>0.00</td>\n",
              "      <td>0.00</td>\n",
              "      <td>0.00</td>\n",
              "      <td>0.00</td>\n",
              "      <td>1.00</td>\n",
              "    </tr>\n",
              "    <tr>\n",
              "      <th>region_Europe</th>\n",
              "      <td>23511.0</td>\n",
              "      <td>0.170644</td>\n",
              "      <td>0.376205</td>\n",
              "      <td>0.00</td>\n",
              "      <td>0.00</td>\n",
              "      <td>0.00</td>\n",
              "      <td>0.00</td>\n",
              "      <td>1.00</td>\n",
              "    </tr>\n",
              "    <tr>\n",
              "      <th>region_LATAM</th>\n",
              "      <td>23511.0</td>\n",
              "      <td>0.128748</td>\n",
              "      <td>0.334928</td>\n",
              "      <td>0.00</td>\n",
              "      <td>0.00</td>\n",
              "      <td>0.00</td>\n",
              "      <td>0.00</td>\n",
              "      <td>1.00</td>\n",
              "    </tr>\n",
              "    <tr>\n",
              "      <th>gender_F</th>\n",
              "      <td>23511.0</td>\n",
              "      <td>0.075752</td>\n",
              "      <td>0.264606</td>\n",
              "      <td>0.00</td>\n",
              "      <td>0.00</td>\n",
              "      <td>0.00</td>\n",
              "      <td>0.00</td>\n",
              "      <td>1.00</td>\n",
              "    </tr>\n",
              "    <tr>\n",
              "      <th>gender_M</th>\n",
              "      <td>23511.0</td>\n",
              "      <td>0.923865</td>\n",
              "      <td>0.265219</td>\n",
              "      <td>0.00</td>\n",
              "      <td>1.00</td>\n",
              "      <td>1.00</td>\n",
              "      <td>1.00</td>\n",
              "      <td>1.00</td>\n",
              "    </tr>\n",
              "    <tr>\n",
              "      <th>gender_X</th>\n",
              "      <td>23511.0</td>\n",
              "      <td>0.000383</td>\n",
              "      <td>0.019562</td>\n",
              "      <td>0.00</td>\n",
              "      <td>0.00</td>\n",
              "      <td>0.00</td>\n",
              "      <td>0.00</td>\n",
              "      <td>1.00</td>\n",
              "    </tr>\n",
              "    <tr>\n",
              "      <th>areaWealthLevel_High</th>\n",
              "      <td>23511.0</td>\n",
              "      <td>0.224873</td>\n",
              "      <td>0.417508</td>\n",
              "      <td>0.00</td>\n",
              "      <td>0.00</td>\n",
              "      <td>0.00</td>\n",
              "      <td>0.00</td>\n",
              "      <td>1.00</td>\n",
              "    </tr>\n",
              "    <tr>\n",
              "      <th>areaWealthLevel_Low</th>\n",
              "      <td>23511.0</td>\n",
              "      <td>0.225341</td>\n",
              "      <td>0.417816</td>\n",
              "      <td>0.00</td>\n",
              "      <td>0.00</td>\n",
              "      <td>0.00</td>\n",
              "      <td>0.00</td>\n",
              "      <td>1.00</td>\n",
              "    </tr>\n",
              "    <tr>\n",
              "      <th>areaWealthLevel_Mid</th>\n",
              "      <td>23511.0</td>\n",
              "      <td>0.450172</td>\n",
              "      <td>0.497522</td>\n",
              "      <td>0.00</td>\n",
              "      <td>0.00</td>\n",
              "      <td>0.00</td>\n",
              "      <td>1.00</td>\n",
              "      <td>1.00</td>\n",
              "    </tr>\n",
              "  </tbody>\n",
              "</table>\n",
              "</div>"
            ],
            "text/plain": [
              "                        count       mean        std  ...    50%    75%      max\n",
              "areaPopulation        23511.0  26.875914  24.357718  ...  21.73  41.37  1832.47\n",
              "badWeather            23511.0   0.084811   0.278607  ...   0.00   0.00     1.00\n",
              "weatherRestrictions   23511.0   0.014802   0.120761  ...   0.00   0.00     1.00\n",
              "routeTotalDistance    23511.0  24.402497   3.280378  ...  24.00  25.90   108.50\n",
              "numberOfShops         23511.0  24.841904  10.678161  ...  25.00  27.00  1623.00\n",
              "marketShare           23511.0  69.872698  14.671810  ...  70.00  80.00   100.00\n",
              "avgAreaBenefits       23511.0  19.213775   9.247303  ...  18.01  21.02   145.53\n",
              "timeFromAvg           23511.0   0.034612   0.420185  ...   0.08   0.20     1.82\n",
              "advertising           23511.0   1.920548   1.110554  ...   2.00   3.00     3.00\n",
              "employeeLYScore       23511.0   3.334907   0.839298  ...   3.00   4.00     5.00\n",
              "employeeTenure        23511.0   1.977713   0.927539  ...   2.00   3.00     3.00\n",
              "employeePrevComps     23511.0   1.543703   0.601036  ...   2.00   2.00     3.00\n",
              "success               23511.0   0.963251   0.188148  ...   1.00   1.00     1.00\n",
              "Age                   23511.0  46.467015   8.623408  ...  46.00  54.00    61.00\n",
              "region_AMESA          23511.0   0.202884   0.402155  ...   0.00   0.00     1.00\n",
              "region_APAC           23511.0   0.200417   0.400321  ...   0.00   0.00     1.00\n",
              "region_Europe         23511.0   0.170644   0.376205  ...   0.00   0.00     1.00\n",
              "region_LATAM          23511.0   0.128748   0.334928  ...   0.00   0.00     1.00\n",
              "gender_F              23511.0   0.075752   0.264606  ...   0.00   0.00     1.00\n",
              "gender_M              23511.0   0.923865   0.265219  ...   1.00   1.00     1.00\n",
              "gender_X              23511.0   0.000383   0.019562  ...   0.00   0.00     1.00\n",
              "areaWealthLevel_High  23511.0   0.224873   0.417508  ...   0.00   0.00     1.00\n",
              "areaWealthLevel_Low   23511.0   0.225341   0.417816  ...   0.00   0.00     1.00\n",
              "areaWealthLevel_Mid   23511.0   0.450172   0.497522  ...   0.00   1.00     1.00\n",
              "\n",
              "[24 rows x 8 columns]"
            ]
          },
          "metadata": {},
          "execution_count": 20
        }
      ]
    },
    {
      "cell_type": "markdown",
      "source": [
        "It is visible in the data that features **areaPopulation, routeTotalDistance, numberOfShops and avgAreaBenefits** have outliers and need to be handled"
      ],
      "metadata": {
        "id": "Tk4Pq0CiPCoZ"
      }
    },
    {
      "cell_type": "code",
      "source": [
        " #imputing the outliers with median values\n",
        " features_with_outliers = ['areaPopulation', 'routeTotalDistance', 'numberOfShops', 'marketShare','avgAreaBenefits']\n",
        " for i in features_with_outliers:\n",
        "  val_50= data[i].quantile(0.50) \n",
        "  val_95= data[i].quantile(0.95)\n",
        "  data[i] = np.where(data[i] > val_95, val_50, data[i])\n",
        "data.describe().transpose()"
      ],
      "metadata": {
        "colab": {
          "base_uri": "https://localhost:8080/",
          "height": 802
        },
        "id": "csPPY7_hO0cf",
        "outputId": "d1e526af-0a66-45dc-8ec6-f29dbf455e31"
      },
      "execution_count": 21,
      "outputs": [
        {
          "output_type": "execute_result",
          "data": {
            "text/html": [
              "<div>\n",
              "<style scoped>\n",
              "    .dataframe tbody tr th:only-of-type {\n",
              "        vertical-align: middle;\n",
              "    }\n",
              "\n",
              "    .dataframe tbody tr th {\n",
              "        vertical-align: top;\n",
              "    }\n",
              "\n",
              "    .dataframe thead th {\n",
              "        text-align: right;\n",
              "    }\n",
              "</style>\n",
              "<table border=\"1\" class=\"dataframe\">\n",
              "  <thead>\n",
              "    <tr style=\"text-align: right;\">\n",
              "      <th></th>\n",
              "      <th>count</th>\n",
              "      <th>mean</th>\n",
              "      <th>std</th>\n",
              "      <th>min</th>\n",
              "      <th>25%</th>\n",
              "      <th>50%</th>\n",
              "      <th>75%</th>\n",
              "      <th>max</th>\n",
              "    </tr>\n",
              "  </thead>\n",
              "  <tbody>\n",
              "    <tr>\n",
              "      <th>areaPopulation</th>\n",
              "      <td>23511.0</td>\n",
              "      <td>24.105025</td>\n",
              "      <td>17.806956</td>\n",
              "      <td>1.15</td>\n",
              "      <td>7.36</td>\n",
              "      <td>21.73</td>\n",
              "      <td>35.97</td>\n",
              "      <td>66.01</td>\n",
              "    </tr>\n",
              "    <tr>\n",
              "      <th>badWeather</th>\n",
              "      <td>23511.0</td>\n",
              "      <td>0.084811</td>\n",
              "      <td>0.278607</td>\n",
              "      <td>0.00</td>\n",
              "      <td>0.00</td>\n",
              "      <td>0.00</td>\n",
              "      <td>0.00</td>\n",
              "      <td>1.00</td>\n",
              "    </tr>\n",
              "    <tr>\n",
              "      <th>weatherRestrictions</th>\n",
              "      <td>23511.0</td>\n",
              "      <td>0.014802</td>\n",
              "      <td>0.120761</td>\n",
              "      <td>0.00</td>\n",
              "      <td>0.00</td>\n",
              "      <td>0.00</td>\n",
              "      <td>0.00</td>\n",
              "      <td>1.00</td>\n",
              "    </tr>\n",
              "    <tr>\n",
              "      <th>routeTotalDistance</th>\n",
              "      <td>23511.0</td>\n",
              "      <td>23.962201</td>\n",
              "      <td>2.493324</td>\n",
              "      <td>13.90</td>\n",
              "      <td>22.50</td>\n",
              "      <td>24.00</td>\n",
              "      <td>25.50</td>\n",
              "      <td>30.00</td>\n",
              "    </tr>\n",
              "    <tr>\n",
              "      <th>numberOfShops</th>\n",
              "      <td>23511.0</td>\n",
              "      <td>24.578750</td>\n",
              "      <td>2.108397</td>\n",
              "      <td>18.00</td>\n",
              "      <td>23.00</td>\n",
              "      <td>25.00</td>\n",
              "      <td>26.00</td>\n",
              "      <td>28.00</td>\n",
              "    </tr>\n",
              "    <tr>\n",
              "      <th>marketShare</th>\n",
              "      <td>23511.0</td>\n",
              "      <td>68.530985</td>\n",
              "      <td>13.198384</td>\n",
              "      <td>15.00</td>\n",
              "      <td>60.00</td>\n",
              "      <td>70.00</td>\n",
              "      <td>78.00</td>\n",
              "      <td>95.00</td>\n",
              "    </tr>\n",
              "    <tr>\n",
              "      <th>avgAreaBenefits</th>\n",
              "      <td>23511.0</td>\n",
              "      <td>17.669343</td>\n",
              "      <td>3.996695</td>\n",
              "      <td>0.00</td>\n",
              "      <td>14.91</td>\n",
              "      <td>18.01</td>\n",
              "      <td>20.35</td>\n",
              "      <td>28.26</td>\n",
              "    </tr>\n",
              "    <tr>\n",
              "      <th>timeFromAvg</th>\n",
              "      <td>23511.0</td>\n",
              "      <td>0.034612</td>\n",
              "      <td>0.420185</td>\n",
              "      <td>-1.25</td>\n",
              "      <td>-0.06</td>\n",
              "      <td>0.08</td>\n",
              "      <td>0.20</td>\n",
              "      <td>1.82</td>\n",
              "    </tr>\n",
              "    <tr>\n",
              "      <th>advertising</th>\n",
              "      <td>23511.0</td>\n",
              "      <td>1.920548</td>\n",
              "      <td>1.110554</td>\n",
              "      <td>0.00</td>\n",
              "      <td>1.00</td>\n",
              "      <td>2.00</td>\n",
              "      <td>3.00</td>\n",
              "      <td>3.00</td>\n",
              "    </tr>\n",
              "    <tr>\n",
              "      <th>employeeLYScore</th>\n",
              "      <td>23511.0</td>\n",
              "      <td>3.334907</td>\n",
              "      <td>0.839298</td>\n",
              "      <td>1.00</td>\n",
              "      <td>3.00</td>\n",
              "      <td>3.00</td>\n",
              "      <td>4.00</td>\n",
              "      <td>5.00</td>\n",
              "    </tr>\n",
              "    <tr>\n",
              "      <th>employeeTenure</th>\n",
              "      <td>23511.0</td>\n",
              "      <td>1.977713</td>\n",
              "      <td>0.927539</td>\n",
              "      <td>0.00</td>\n",
              "      <td>1.00</td>\n",
              "      <td>2.00</td>\n",
              "      <td>3.00</td>\n",
              "      <td>3.00</td>\n",
              "    </tr>\n",
              "    <tr>\n",
              "      <th>employeePrevComps</th>\n",
              "      <td>23511.0</td>\n",
              "      <td>1.543703</td>\n",
              "      <td>0.601036</td>\n",
              "      <td>0.00</td>\n",
              "      <td>1.00</td>\n",
              "      <td>2.00</td>\n",
              "      <td>2.00</td>\n",
              "      <td>3.00</td>\n",
              "    </tr>\n",
              "    <tr>\n",
              "      <th>success</th>\n",
              "      <td>23511.0</td>\n",
              "      <td>0.963251</td>\n",
              "      <td>0.188148</td>\n",
              "      <td>0.00</td>\n",
              "      <td>1.00</td>\n",
              "      <td>1.00</td>\n",
              "      <td>1.00</td>\n",
              "      <td>1.00</td>\n",
              "    </tr>\n",
              "    <tr>\n",
              "      <th>Age</th>\n",
              "      <td>23511.0</td>\n",
              "      <td>46.467015</td>\n",
              "      <td>8.623408</td>\n",
              "      <td>31.00</td>\n",
              "      <td>39.00</td>\n",
              "      <td>46.00</td>\n",
              "      <td>54.00</td>\n",
              "      <td>61.00</td>\n",
              "    </tr>\n",
              "    <tr>\n",
              "      <th>region_AMESA</th>\n",
              "      <td>23511.0</td>\n",
              "      <td>0.202884</td>\n",
              "      <td>0.402155</td>\n",
              "      <td>0.00</td>\n",
              "      <td>0.00</td>\n",
              "      <td>0.00</td>\n",
              "      <td>0.00</td>\n",
              "      <td>1.00</td>\n",
              "    </tr>\n",
              "    <tr>\n",
              "      <th>region_APAC</th>\n",
              "      <td>23511.0</td>\n",
              "      <td>0.200417</td>\n",
              "      <td>0.400321</td>\n",
              "      <td>0.00</td>\n",
              "      <td>0.00</td>\n",
              "      <td>0.00</td>\n",
              "      <td>0.00</td>\n",
              "      <td>1.00</td>\n",
              "    </tr>\n",
              "    <tr>\n",
              "      <th>region_Europe</th>\n",
              "      <td>23511.0</td>\n",
              "      <td>0.170644</td>\n",
              "      <td>0.376205</td>\n",
              "      <td>0.00</td>\n",
              "      <td>0.00</td>\n",
              "      <td>0.00</td>\n",
              "      <td>0.00</td>\n",
              "      <td>1.00</td>\n",
              "    </tr>\n",
              "    <tr>\n",
              "      <th>region_LATAM</th>\n",
              "      <td>23511.0</td>\n",
              "      <td>0.128748</td>\n",
              "      <td>0.334928</td>\n",
              "      <td>0.00</td>\n",
              "      <td>0.00</td>\n",
              "      <td>0.00</td>\n",
              "      <td>0.00</td>\n",
              "      <td>1.00</td>\n",
              "    </tr>\n",
              "    <tr>\n",
              "      <th>gender_F</th>\n",
              "      <td>23511.0</td>\n",
              "      <td>0.075752</td>\n",
              "      <td>0.264606</td>\n",
              "      <td>0.00</td>\n",
              "      <td>0.00</td>\n",
              "      <td>0.00</td>\n",
              "      <td>0.00</td>\n",
              "      <td>1.00</td>\n",
              "    </tr>\n",
              "    <tr>\n",
              "      <th>gender_M</th>\n",
              "      <td>23511.0</td>\n",
              "      <td>0.923865</td>\n",
              "      <td>0.265219</td>\n",
              "      <td>0.00</td>\n",
              "      <td>1.00</td>\n",
              "      <td>1.00</td>\n",
              "      <td>1.00</td>\n",
              "      <td>1.00</td>\n",
              "    </tr>\n",
              "    <tr>\n",
              "      <th>gender_X</th>\n",
              "      <td>23511.0</td>\n",
              "      <td>0.000383</td>\n",
              "      <td>0.019562</td>\n",
              "      <td>0.00</td>\n",
              "      <td>0.00</td>\n",
              "      <td>0.00</td>\n",
              "      <td>0.00</td>\n",
              "      <td>1.00</td>\n",
              "    </tr>\n",
              "    <tr>\n",
              "      <th>areaWealthLevel_High</th>\n",
              "      <td>23511.0</td>\n",
              "      <td>0.224873</td>\n",
              "      <td>0.417508</td>\n",
              "      <td>0.00</td>\n",
              "      <td>0.00</td>\n",
              "      <td>0.00</td>\n",
              "      <td>0.00</td>\n",
              "      <td>1.00</td>\n",
              "    </tr>\n",
              "    <tr>\n",
              "      <th>areaWealthLevel_Low</th>\n",
              "      <td>23511.0</td>\n",
              "      <td>0.225341</td>\n",
              "      <td>0.417816</td>\n",
              "      <td>0.00</td>\n",
              "      <td>0.00</td>\n",
              "      <td>0.00</td>\n",
              "      <td>0.00</td>\n",
              "      <td>1.00</td>\n",
              "    </tr>\n",
              "    <tr>\n",
              "      <th>areaWealthLevel_Mid</th>\n",
              "      <td>23511.0</td>\n",
              "      <td>0.450172</td>\n",
              "      <td>0.497522</td>\n",
              "      <td>0.00</td>\n",
              "      <td>0.00</td>\n",
              "      <td>0.00</td>\n",
              "      <td>1.00</td>\n",
              "      <td>1.00</td>\n",
              "    </tr>\n",
              "  </tbody>\n",
              "</table>\n",
              "</div>"
            ],
            "text/plain": [
              "                        count       mean        std  ...    50%    75%    max\n",
              "areaPopulation        23511.0  24.105025  17.806956  ...  21.73  35.97  66.01\n",
              "badWeather            23511.0   0.084811   0.278607  ...   0.00   0.00   1.00\n",
              "weatherRestrictions   23511.0   0.014802   0.120761  ...   0.00   0.00   1.00\n",
              "routeTotalDistance    23511.0  23.962201   2.493324  ...  24.00  25.50  30.00\n",
              "numberOfShops         23511.0  24.578750   2.108397  ...  25.00  26.00  28.00\n",
              "marketShare           23511.0  68.530985  13.198384  ...  70.00  78.00  95.00\n",
              "avgAreaBenefits       23511.0  17.669343   3.996695  ...  18.01  20.35  28.26\n",
              "timeFromAvg           23511.0   0.034612   0.420185  ...   0.08   0.20   1.82\n",
              "advertising           23511.0   1.920548   1.110554  ...   2.00   3.00   3.00\n",
              "employeeLYScore       23511.0   3.334907   0.839298  ...   3.00   4.00   5.00\n",
              "employeeTenure        23511.0   1.977713   0.927539  ...   2.00   3.00   3.00\n",
              "employeePrevComps     23511.0   1.543703   0.601036  ...   2.00   2.00   3.00\n",
              "success               23511.0   0.963251   0.188148  ...   1.00   1.00   1.00\n",
              "Age                   23511.0  46.467015   8.623408  ...  46.00  54.00  61.00\n",
              "region_AMESA          23511.0   0.202884   0.402155  ...   0.00   0.00   1.00\n",
              "region_APAC           23511.0   0.200417   0.400321  ...   0.00   0.00   1.00\n",
              "region_Europe         23511.0   0.170644   0.376205  ...   0.00   0.00   1.00\n",
              "region_LATAM          23511.0   0.128748   0.334928  ...   0.00   0.00   1.00\n",
              "gender_F              23511.0   0.075752   0.264606  ...   0.00   0.00   1.00\n",
              "gender_M              23511.0   0.923865   0.265219  ...   1.00   1.00   1.00\n",
              "gender_X              23511.0   0.000383   0.019562  ...   0.00   0.00   1.00\n",
              "areaWealthLevel_High  23511.0   0.224873   0.417508  ...   0.00   0.00   1.00\n",
              "areaWealthLevel_Low   23511.0   0.225341   0.417816  ...   0.00   0.00   1.00\n",
              "areaWealthLevel_Mid   23511.0   0.450172   0.497522  ...   0.00   1.00   1.00\n",
              "\n",
              "[24 rows x 8 columns]"
            ]
          },
          "metadata": {},
          "execution_count": 21
        }
      ]
    },
    {
      "cell_type": "code",
      "source": [
        "#plotting heatmap to understand the data correlation\n",
        "plt.figure(figsize=(20,20))\n",
        "sns.heatmap(data.corr(),annot=True)"
      ],
      "metadata": {
        "colab": {
          "base_uri": "https://localhost:8080/",
          "height": 1000
        },
        "id": "oyucXUTXaHkA",
        "outputId": "734f456f-28a1-4202-d6ae-b2dbd58f2d11"
      },
      "execution_count": 22,
      "outputs": [
        {
          "output_type": "execute_result",
          "data": {
            "text/plain": [
              "<matplotlib.axes._subplots.AxesSubplot at 0x7f05b3a040d0>"
            ]
          },
          "metadata": {},
          "execution_count": 22
        },
        {
          "output_type": "display_data",
          "data": {
            "image/png": "[encoded data removed]",
            "text/plain": [
              "<Figure size 1440x1440 with 2 Axes>"
            ]
          },
          "metadata": {
            "needs_background": "light"
          }
        }
      ]
    },
    {
      "cell_type": "markdown",
      "source": [
        "\n",
        "\n",
        "1.   Advertising and employeeLYcore are positively correlated\n",
        "2.   gender male and female are negatively correlated understandably\n",
        "\n"
      ],
      "metadata": {
        "id": "f8H1zPeOg9dq"
      }
    },
    {
      "cell_type": "code",
      "source": [
        "#checking for any null values\n",
        "data.isnull().values.any()\n",
        "#data.columns[data.isna().any()].tolist()"
      ],
      "metadata": {
        "colab": {
          "base_uri": "https://localhost:8080/"
        },
        "id": "Dzwz2qcXgBrK",
        "outputId": "93e1db07-8d0a-4171-be23-8405dd75690f"
      },
      "execution_count": 23,
      "outputs": [
        {
          "output_type": "execute_result",
          "data": {
            "text/plain": [
              "False"
            ]
          },
          "metadata": {},
          "execution_count": 23
        }
      ]
    },
    {
      "cell_type": "markdown",
      "source": [
        "upsampling the minority class to resolve data imbalance"
      ],
      "metadata": {
        "id": "BWExViaA-PFg"
      }
    },
    {
      "cell_type": "code",
      "source": [
        "y = data.success\n",
        "x = data.drop('success', axis=1)\n",
        "\n",
        "# setting up testing and training sets\n",
        "x_train, x_test, y_train, y_test = train_test_split(x, y, test_size=0.25, random_state=27)\n",
        "\n",
        "# concatenate our training data back together\n",
        "x = pd.concat([x_train, y_train], axis=1)\n",
        "\n",
        "# separate minority and majority classes\n",
        "success = x[x.success==1]\n",
        "no_success = x[x.success==0]\n",
        "\n",
        "# upsample minority\n",
        "no_success_upsampled = resample(no_success,\n",
        "                          replace=True,\n",
        "                          n_samples=len(success),\n",
        "                          random_state=27)\n",
        "\n",
        "# combine majority and upsampled minority\n",
        "upsampled = pd.concat([success, no_success_upsampled])\n",
        "\n",
        "# check new class counts\n",
        "upsampled.success.value_counts()"
      ],
      "metadata": {
        "colab": {
          "base_uri": "https://localhost:8080/"
        },
        "id": "nj14-rmjJjip",
        "outputId": "ee4b794e-f2e3-4d43-e3be-0984ebb45b04"
      },
      "execution_count": 24,
      "outputs": [
        {
          "output_type": "execute_result",
          "data": {
            "text/plain": [
              "1    16996\n",
              "0    16996\n",
              "Name: success, dtype: int64"
            ]
          },
          "metadata": {},
          "execution_count": 24
        }
      ]
    },
    {
      "cell_type": "code",
      "source": [
        "y_train = upsampled.success\n",
        "x_train = upsampled.drop('success', axis=1)"
      ],
      "metadata": {
        "id": "pn6uzqq65klc"
      },
      "execution_count": 25,
      "outputs": []
    },
    {
      "cell_type": "code",
      "source": [
        "x_train.shape"
      ],
      "metadata": {
        "colab": {
          "base_uri": "https://localhost:8080/"
        },
        "id": "_1YhnTNGt6Vn",
        "outputId": "78b54541-155c-4459-e113-ef30e75654b2"
      },
      "execution_count": 26,
      "outputs": [
        {
          "output_type": "execute_result",
          "data": {
            "text/plain": [
              "(33992, 23)"
            ]
          },
          "metadata": {},
          "execution_count": 26
        }
      ]
    },
    {
      "cell_type": "code",
      "source": [
        "x_test.shape"
      ],
      "metadata": {
        "colab": {
          "base_uri": "https://localhost:8080/"
        },
        "id": "6jLq_LI5uAAI",
        "outputId": "7b8d802c-feb3-44da-847b-4032524ca24e"
      },
      "execution_count": 27,
      "outputs": [
        {
          "output_type": "execute_result",
          "data": {
            "text/plain": [
              "(5878, 23)"
            ]
          },
          "metadata": {},
          "execution_count": 27
        }
      ]
    },
    {
      "cell_type": "code",
      "source": [
        "logreg = LogisticRegression(solver='liblinear')\n",
        "logreg.fit(x_train, y_train)"
      ],
      "metadata": {
        "colab": {
          "base_uri": "https://localhost:8080/"
        },
        "id": "scTXrFCyuZqU",
        "outputId": "0483fb79-c9f4-4f20-cafb-f48e3712315b"
      },
      "execution_count": 28,
      "outputs": [
        {
          "output_type": "execute_result",
          "data": {
            "text/plain": [
              "LogisticRegression(solver='liblinear')"
            ]
          },
          "metadata": {},
          "execution_count": 28
        }
      ]
    },
    {
      "cell_type": "code",
      "source": [
        "y_pred_lr=logreg.predict(x_test)"
      ],
      "metadata": {
        "id": "p7V8q52z3zEt"
      },
      "execution_count": 29,
      "outputs": []
    },
    {
      "cell_type": "code",
      "source": [
        "k_range=range(1,15)\n",
        "scores={}\n",
        "scores_list=[]\n",
        "for k in k_range:\n",
        "    knn=KNeighborsClassifier(n_neighbors=k)\n",
        "    knn.fit(x_train,y_train)\n",
        "    y_pred_knn=knn.predict(x_test)\n",
        "    scores[k]=metrics.accuracy_score(y_test,y_pred_knn)\n",
        "    scores_list.append(metrics.accuracy_score(y_test,y_pred_knn))\n",
        "print (scores)\n",
        "print(max(scores_list))"
      ],
      "metadata": {
        "colab": {
          "base_uri": "https://localhost:8080/"
        },
        "id": "kvpWSqnzqpAW",
        "outputId": "88612830-4308-4fce-e4a3-3a4a63f0eb2c"
      },
      "execution_count": 30,
      "outputs": [
        {
          "output_type": "stream",
          "name": "stdout",
          "text": [
            "{1: 0.9538958829533855, 2: 0.9324600204151072, 3: 0.9324600204151072, 4: 0.9074515141204491, 5: 0.9074515141204491, 6: 0.8878870364069411, 7: 0.8878870364069411, 8: 0.8683225586934331, 9: 0.8683225586934331, 10: 0.8473970738346376, 11: 0.8473970738346376, 12: 0.8285130996937734, 13: 0.8285130996937734, 14: 0.8080979925144607}\n",
            "0.9538958829533855\n"
          ]
        }
      ]
    },
    {
      "cell_type": "code",
      "source": [
        "%matplotlib inline\n",
        "import matplotlib.pyplot as plt\n",
        "plt.plot(k_range,scores_list)"
      ],
      "metadata": {
        "colab": {
          "base_uri": "https://localhost:8080/",
          "height": 285
        },
        "id": "SMuhfSzgq4dx",
        "outputId": "4cec97d8-1eb3-424e-c336-3571c2bfac3a"
      },
      "execution_count": 31,
      "outputs": [
        {
          "output_type": "execute_result",
          "data": {
            "text/plain": [
              "[<matplotlib.lines.Line2D at 0x7f05b629d890>]"
            ]
          },
          "metadata": {},
          "execution_count": 31
        },
        {
          "output_type": "display_data",
          "data": {
            "image/png": "[encoded data removed]",
            "text/plain": [
              "<Figure size 432x288 with 1 Axes>"
            ]
          },
          "metadata": {
            "needs_background": "light"
          }
        }
      ]
    },
    {
      "cell_type": "code",
      "source": [
        "knn=KNeighborsClassifier(n_neighbors=1)\n",
        "knn.fit(x_train,y_train)\n",
        "y_pred_knn=knn.predict(x_test)"
      ],
      "metadata": {
        "id": "9Y7Wm7DsrAw0"
      },
      "execution_count": 32,
      "outputs": []
    },
    {
      "cell_type": "code",
      "source": [
        "bnb= BernoulliNB()\n",
        "bnb.fit(x_train,y_train)\n",
        "y_pred_nb=bnb.predict(x_test)"
      ],
      "metadata": {
        "id": "yOtovVDVrWyl"
      },
      "execution_count": 33,
      "outputs": []
    },
    {
      "cell_type": "code",
      "source": [
        "rfc = RandomForestClassifier(n_estimators=10).fit(x_train, y_train)\n",
        "y_pred_rfc = rfc.predict(x_test)"
      ],
      "metadata": {
        "id": "cdv1bhxZ0PI3"
      },
      "execution_count": 34,
      "outputs": []
    },
    {
      "cell_type": "code",
      "source": [
        "#printing metrics for all models\n",
        "models=[y_pred_lr,y_pred_nb,y_pred_knn,y_pred_rfc]\n",
        "for i in models:\n",
        "  acc_score= round(metrics.accuracy_score(y_test,i)*100,2)\n",
        "  precision_score= round(metrics.precision_score(y_test,i)*100,2)\n",
        "  recall_score= round(metrics.precision_score(y_test,i)*100,2)\n",
        "  print('Precision score: ',precision_score)\n",
        "  print('recall score: ',recall_score)\n",
        "  print('accuracy score: ',acc_score)\n",
        "  f_value= round((2*precision_score*recall_score)/(precision_score+recall_score),2)\n",
        "  print('F measure: ',f_value)\n",
        "  print('*****************************')"
      ],
      "metadata": {
        "colab": {
          "base_uri": "https://localhost:8080/"
        },
        "id": "1zYCxHg1_itE",
        "outputId": "5ee788ee-f03c-4172-a7d9-97f290f93efd"
      },
      "execution_count": 35,
      "outputs": [
        {
          "output_type": "stream",
          "name": "stdout",
          "text": [
            "Precision score:  98.47\n",
            "recall score:  98.47\n",
            "accuracy score:  72.95\n",
            "F measure:  98.47\n",
            "*****************************\n",
            "Precision score:  97.83\n",
            "recall score:  97.83\n",
            "accuracy score:  82.66\n",
            "F measure:  97.83\n",
            "*****************************\n",
            "Precision score:  97.09\n",
            "recall score:  97.09\n",
            "accuracy score:  95.39\n",
            "F measure:  97.09\n",
            "*****************************\n",
            "Precision score:  96.87\n",
            "recall score:  96.87\n",
            "accuracy score:  96.65\n",
            "F measure:  96.87\n",
            "*****************************\n"
          ]
        }
      ]
    },
    {
      "cell_type": "code",
      "source": [
        "from sklearn.metrics import confusion_matrix\n",
        "cm_lr=confusion_matrix(y_test,y_pred_lr)\n",
        "print(cm_lr)"
      ],
      "metadata": {
        "colab": {
          "base_uri": "https://localhost:8080/"
        },
        "id": "DL3yjj077BmT",
        "outputId": "7e2bc520-c47d-474d-de27-7b023f76e721"
      },
      "execution_count": 36,
      "outputs": [
        {
          "output_type": "stream",
          "name": "stdout",
          "text": [
            "[[ 163   64]\n",
            " [1526 4125]]\n"
          ]
        }
      ]
    },
    {
      "cell_type": "code",
      "source": [
        "cm_knn=confusion_matrix(y_test,y_pred_nb)\n",
        "print(cm_knn)"
      ],
      "metadata": {
        "colab": {
          "base_uri": "https://localhost:8080/"
        },
        "id": "d8QANry0rgDB",
        "outputId": "e112699d-8eae-421d-f720-16ea576c69bd"
      },
      "execution_count": 37,
      "outputs": [
        {
          "output_type": "stream",
          "name": "stdout",
          "text": [
            "[[ 122  105]\n",
            " [ 914 4737]]\n"
          ]
        }
      ]
    },
    {
      "cell_type": "code",
      "source": [
        "cm_nb=confusion_matrix(y_test,y_pred_knn)\n",
        "print(cm_nb)"
      ],
      "metadata": {
        "colab": {
          "base_uri": "https://localhost:8080/"
        },
        "id": "i8uyOjTmrkN-",
        "outputId": "7459e7c8-3640-48c4-d568-7a1112f79a62"
      },
      "execution_count": 38,
      "outputs": [
        {
          "output_type": "stream",
          "name": "stdout",
          "text": [
            "[[  61  166]\n",
            " [ 105 5546]]\n"
          ]
        }
      ]
    },
    {
      "cell_type": "code",
      "source": [
        "cm_rfc=confusion_matrix(y_test,y_pred_rfc)\n",
        "print(cm_rfc)"
      ],
      "metadata": {
        "colab": {
          "base_uri": "https://localhost:8080/"
        },
        "id": "4ZzQGy_604nv",
        "outputId": "cb08961c-09b7-4547-c1bb-39f646b7c92c"
      },
      "execution_count": 39,
      "outputs": [
        {
          "output_type": "stream",
          "name": "stdout",
          "text": [
            "[[  45  182]\n",
            " [  15 5636]]\n"
          ]
        }
      ]
    },
    {
      "cell_type": "code",
      "source": [
        "from sklearn.metrics import roc_auc_score\n",
        "from sklearn.metrics import roc_curve\n",
        "logit_roc_auc = roc_auc_score(y_test, rfc.predict(x_test))\n",
        "fpr, tpr, thresholds = roc_curve(y_test, rfc.predict_proba(x_test)[:,1])\n",
        "plt.figure()\n",
        "plt.plot(fpr, tpr, label='Logistic Regression (area = %0.2f)' % logit_roc_auc)\n",
        "plt.plot([0, 1], [0, 1],'r--')\n",
        "plt.xlim([0.0, 1.0])\n",
        "plt.ylim([0.0, 1.05])\n",
        "plt.xlabel('False Positive Rate')\n",
        "plt.ylabel('True Positive Rate')\n",
        "plt.title('Receiver operating characteristic')\n",
        "plt.legend(loc=\"lower right\")\n",
        "plt.savefig('Log_ROC')\n",
        "plt.show()"
      ],
      "metadata": {
        "colab": {
          "base_uri": "https://localhost:8080/",
          "height": 295
        },
        "id": "YmnO0rcK54uL",
        "outputId": "5e5db279-d932-46c9-f925-e29ec29e6b80"
      },
      "execution_count": 40,
      "outputs": [
        {
          "output_type": "display_data",
          "data": {
            "image/png": "[encoded data removed]",
            "text/plain": [
              "<Figure size 432x288 with 1 Axes>"
            ]
          },
          "metadata": {
            "needs_background": "light"
          }
        }
      ]
    },
    {
      "cell_type": "code",
      "source": [
        "act_pred=rfc.predict(data_witout_success_pred.loc[:,data_witout_success_pred.columns!='success'])\n",
        "print(act_pred)\n",
        "act_pred.shape\n",
        "data_witout_success_pred['success'] = act_pred"
      ],
      "metadata": {
        "colab": {
          "base_uri": "https://localhost:8080/"
        },
        "id": "N_c70AyztGRk",
        "outputId": "9dde5e11-a0cf-46ce-be84-fa8ee88ec47e"
      },
      "execution_count": 41,
      "outputs": [
        {
          "output_type": "stream",
          "name": "stdout",
          "text": [
            "[1 1 1 ... 1 1 1]\n"
          ]
        },
        {
          "output_type": "stream",
          "name": "stderr",
          "text": [
            "/usr/local/lib/python3.7/dist-packages/ipykernel_launcher.py:4: SettingWithCopyWarning: \n",
            "A value is trying to be set on a copy of a slice from a DataFrame.\n",
            "Try using .loc[row_indexer,col_indexer] = value instead\n",
            "\n",
            "See the caveats in the documentation: https://pandas.pydata.org/pandas-docs/stable/user_guide/indexing.html#returning-a-view-versus-a-copy\n",
            "  after removing the cwd from sys.path.\n"
          ]
        }
      ]
    },
    {
      "cell_type": "code",
      "source": [
        "prediction_data=data_witout_success_pred.join(id_column, sort=True)\n",
        "result_data = prediction_data[['anonID','success']]"
      ],
      "metadata": {
        "id": "84fyB21boXIK"
      },
      "execution_count": 42,
      "outputs": []
    },
    {
      "cell_type": "code",
      "source": [
        "result_data.info"
      ],
      "metadata": {
        "colab": {
          "base_uri": "https://localhost:8080/"
        },
        "id": "TuIjzL7qttbF",
        "outputId": "4552daef-6297-4a3b-e205-45c0856d1ac7"
      },
      "execution_count": 43,
      "outputs": [
        {
          "output_type": "execute_result",
          "data": {
            "text/plain": [
              "<bound method DataFrame.info of          anonID  success\n",
              "0      XLKC1691        1\n",
              "1      KANY6459        1\n",
              "2      ULUZ5859        1\n",
              "3      LDCQ7279        1\n",
              "4      KIUB5860        1\n",
              "...         ...      ...\n",
              "29334  HQQL2460        1\n",
              "29345  JTDZ8338        1\n",
              "29356  NIJK7000        1\n",
              "29367  LJGV2715        1\n",
              "29378  RNGC9551        1\n",
              "\n",
              "[5878 rows x 2 columns]>"
            ]
          },
          "metadata": {},
          "execution_count": 43
        }
      ]
    },
    {
      "cell_type": "code",
      "source": [
        "result_data.to_csv('result.csv')"
      ],
      "metadata": {
        "id": "ISWZLdYEt9Ab"
      },
      "execution_count": 44,
      "outputs": []
    }
  ]
}